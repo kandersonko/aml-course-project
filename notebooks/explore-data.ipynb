{
 "cells": [
  {
   "cell_type": "code",
   "execution_count": null,
   "metadata": {},
   "outputs": [],
   "source": [
    "import scipy.io as sio\n",
    "from pathlib import Path\n",
    "import numpy as np\n",
    "import matplotlib.pyplot as plt\n",
    "## Sample ECG input signal\n",
    "sample_data = sio.loadmat('../data/training2017/A00103.mat'"
   ]
  },
  {
   "cell_type": "code",
   "execution_count": null,
   "metadata": {},
   "outputs": [],
   "source": [
    ")\n",
    "# sample_data = sample_data['val']\n",
    "sample_data\n",
    "sample_data, sample_data.shape\n"
   ]
  },
  {
   "cell_type": "code",
   "execution_count": null,
   "metadata": {},
   "outputs": [],
   "source": [
    "def preprocess(input_data):\n",
    "  # Parameters\n",
    "  FS = 300\n",
    "  maxlen = 30*FS\n",
    "\n",
    "  # Preprocessing data\n",
    "  print(\"Preprocessing recording ..\")    \n",
    "  X = np.zeros((1,maxlen))\n",
    "  input_data = np.nan_to_num(input_data) # removing NaNs and Infs\n",
    "  input_data = input_data[0,0:maxlen]\n",
    "  input_data = input_data - np.mean(input_data)\n",
    "  input_data = input_data/np.std(input_data)\n",
    "  X[0,:len(input_data)] = input_data.T # padding sequence\n",
    "  input_data = X\n",
    "  input_data = np.expand_dims(input_data, axis=2) # required by Keras\n",
    "  del X\n",
    "  return input_data\n"
   ]
  },
  {
   "cell_type": "code",
   "execution_count": null,
   "metadata": {},
   "outputs": [],
   "source": [
    "sample = preprocess(sample_data)\n",
    "sample, sample.shape\n",
    "plt.plot(sample[0,0:1000,0],)\n",
    "plt.title(\"Input signal\")\n"
   ]
  },
  {
   "cell_type": "code",
   "execution_count": null,
   "metadata": {},
   "outputs": [],
   "source": [
    "## Load training data\n",
    "data_dir =Path('../data')\n",
    "train_data = sio.loadmat('../data/trainingset.mat')\n",
    "X_train, y_train = train_data['trainset'], train_data['traintarget']\n",
    "X_train.shape, y_train.shape\n",
    "X_train[0].shape\n",
    "plt.plot(X_train[1][0:1000,],)\n",
    "plt.title(\"Input signal\")\n",
    "\n",
    "n = np.random.randint(0,1000)\n",
    "print(n)\n",
    "plt.plot(X_train[n][0:1000,],)\n",
    "plt.title(\"Input signal\")\n"
   ]
  }
 ],
 "metadata": {
  "language_info": {
   "name": "python"
  },
  "orig_nbformat": 4
 },
 "nbformat": 4,
 "nbformat_minor": 2
}
